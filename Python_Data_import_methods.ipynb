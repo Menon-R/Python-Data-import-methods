{
  "nbformat": 4,
  "nbformat_minor": 0,
  "metadata": {
    "colab": {
      "name": "Python - Data import methods.ipynb",
      "provenance": [],
      "collapsed_sections": []
    },
    "kernelspec": {
      "name": "python3",
      "display_name": "Python 3"
    },
    "language_info": {
      "name": "python"
    }
  },
  "cells": [
    {
      "cell_type": "markdown",
      "metadata": {
        "id": "svzyWLmm4-0z"
      },
      "source": [
        "**Various methods to read/load different file formats into Pyhton.**\n",
        "\n",
        "---\n",
        "\n"
      ]
    },
    {
      "cell_type": "markdown",
      "metadata": {
        "id": "ZDZeSJ8x7ZK2"
      },
      "source": [
        "**TEXT FILE**"
      ]
    },
    {
      "cell_type": "code",
      "metadata": {
        "colab": {
          "base_uri": "https://localhost:8080/"
        },
        "id": "PHqPRyHH47Jm",
        "outputId": "77830246-469f-46cd-8211-2083930ba5b3"
      },
      "source": [
        "# using the built-in open() function \n",
        "with open('sample text doc.txt', 'r') as text_data:\n",
        "  print(text_data.read())"
      ],
      "execution_count": 19,
      "outputs": [
        {
          "output_type": "stream",
          "text": [
            "This is a sample text document.\n",
            "\n",
            "Here is a list of Colors:\n",
            "Red\n",
            "Bule\n",
            "Pink\n",
            "Yellow\n",
            "Black\n",
            "White\n",
            "Grey\n",
            "Green\n"
          ],
          "name": "stdout"
        }
      ]
    },
    {
      "cell_type": "code",
      "metadata": {
        "colab": {
          "base_uri": "https://localhost:8080/"
        },
        "id": "7rcVomds7no6",
        "outputId": "7ec22c59-8ab5-4395-fcd1-2ac84c955e70"
      },
      "source": [
        "# using pandas (Using pd.read_table)\n",
        "import pandas as pd\n",
        "txtdata = pd.read_table('sample text doc.txt')\n",
        "print(txtdata.head())"
      ],
      "execution_count": 17,
      "outputs": [
        {
          "output_type": "stream",
          "text": [
            "  This is a sample text document.\n",
            "0       Here is a list of Colors:\n",
            "1                             Red\n",
            "2                            Bule\n",
            "3                            Pink\n",
            "4                          Yellow\n"
          ],
          "name": "stdout"
        }
      ]
    },
    {
      "cell_type": "code",
      "metadata": {
        "colab": {
          "base_uri": "https://localhost:8080/"
        },
        "id": "YN-NmGKv8U9U",
        "outputId": "a4213a1f-ac55-48da-f418-96762470aa88"
      },
      "source": [
        "# using pandas (Using pd.read_csv)\n",
        "import pandas as pd\n",
        "txtdata2 = pd.read_csv('sample text doc.txt')\n",
        "# it is optional to use ---- sep='\\t' -> this indicates a tab-seperated file format\n",
        "print(txtdata2)"
      ],
      "execution_count": 10,
      "outputs": [
        {
          "output_type": "stream",
          "text": [
            "  This is a sample text document.\n",
            "0       Here is a list of Colors:\n",
            "1                             Red\n",
            "2                            Bule\n",
            "3                            Pink\n",
            "4                          Yellow\n",
            "5                           Black\n",
            "6                           White\n",
            "7                            Grey\n",
            "8                           Green\n"
          ],
          "name": "stdout"
        }
      ]
    },
    {
      "cell_type": "markdown",
      "metadata": {
        "id": "BomeGOBx86B5"
      },
      "source": [
        "**EXCEL FILE**"
      ]
    },
    {
      "cell_type": "code",
      "metadata": {
        "colab": {
          "base_uri": "https://localhost:8080/"
        },
        "id": "lqnA-sdS9W2w",
        "outputId": "3b6be22b-258a-4888-e980-8c8b75128061"
      },
      "source": [
        "# Using pandas\n",
        "exceldata = pd.read_excel('excel sample data.xlsx')\n",
        "print(exceldata)"
      ],
      "execution_count": 14,
      "outputs": [
        {
          "output_type": "stream",
          "text": [
            "   Color  #Hex Code\n",
            "0   White   #FFFFFF\n",
            "1  Silver   #C0C0C0\n",
            "2    Gray   #808080\n",
            "3   Black   #000000\n",
            "4     Red   #FF0000\n"
          ],
          "name": "stdout"
        }
      ]
    },
    {
      "cell_type": "markdown",
      "metadata": {
        "id": "kHynD2FQ_7Yp"
      },
      "source": [
        "**CSV FILE**"
      ]
    },
    {
      "cell_type": "code",
      "metadata": {
        "colab": {
          "base_uri": "https://localhost:8080/"
        },
        "id": "O8CI34PB_67I",
        "outputId": "05a84c70-e242-4fd9-c12c-8914a1463924"
      },
      "source": [
        "import pandas as pd\n",
        "csvfile= pd.read_csv('csvdata.csv')\n",
        "print(csvfile)\n",
        "# if the CSV file has no header the code will look something like this\n",
        "## csvfile= pd.read_csv('csvdata.csv', header = None)\n",
        "\n",
        "# To read the same off a URL \n",
        "## csvfile= pd.read_csv(\"https://urltothesite.com/files/csvdata.csv\", header = None)"
      ],
      "execution_count": 21,
      "outputs": [
        {
          "output_type": "stream",
          "text": [
            "   Color  #Hex Code\n",
            "0   White   #FFFFFF\n",
            "1  Silver   #C0C0C0\n",
            "2    Gray   #808080\n",
            "3   Black   #000000\n",
            "4     Red   #FF0000\n"
          ],
          "name": "stdout"
        }
      ]
    },
    {
      "cell_type": "markdown",
      "metadata": {
        "id": "_W1fyFsKBH_e"
      },
      "source": [
        "**SAS FILE**"
      ]
    },
    {
      "cell_type": "code",
      "metadata": {
        "id": "kTYkWr1mBHh5"
      },
      "source": [
        "# this can be done using *Pandas* or *pyreadstat*\n",
        "import pandas as pd\n",
        "sasdata =pd.read_sas('filename.sas7bdat')\n",
        "\n",
        "# Using pyreadstat\n",
        "import pyreadstat\n",
        "df, meta = pyreadstat.read_sas7bdat('/path/.sas7bdat')"
      ],
      "execution_count": null,
      "outputs": []
    },
    {
      "cell_type": "markdown",
      "metadata": {
        "id": "MAoQPttVGbE_"
      },
      "source": [
        "**R FIlE**"
      ]
    },
    {
      "cell_type": "code",
      "metadata": {
        "id": "lJahtedlDyH9"
      },
      "source": [
        "import pyreadr\n",
        "datafile = pyread.read_r(/path/data.RData)"
      ],
      "execution_count": null,
      "outputs": []
    },
    {
      "cell_type": "markdown",
      "metadata": {
        "id": "qR09Loh0HGqd"
      },
      "source": [
        "**SQL TABLE**"
      ]
    },
    {
      "cell_type": "code",
      "metadata": {
        "id": "Jx35V0s9HGb_"
      },
      "source": [
        "import pyodbc\n",
        "import pandas as pd\n",
        "server ='name'\n",
        "database ='dbname'\n",
        "username ='xxxxxx'\n",
        "passsword ='xxxxxxxxx'\n",
        "tbfile = pyodbc.connect('DRIVER={SQL Server};SERVER='+server+';DATABASE='+database+';UID='+username+';PWD='+ password)\n",
        "cursor = tbfile.cursor()\n",
        "query = \"SELECT [CountryRegionCode], [Name] FROM Person.CountryRegion;\"\n",
        "df = pd.read_sql(query, tbfile)\n",
        "print(df.head())"
      ],
      "execution_count": null,
      "outputs": []
    },
    {
      "cell_type": "code",
      "metadata": {
        "id": "8RxMeQbBG63R"
      },
      "source": [
        ""
      ],
      "execution_count": null,
      "outputs": []
    }
  ]
}